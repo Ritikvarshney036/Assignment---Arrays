{
 "cells": [
  {
   "cell_type": "markdown",
   "id": "0fb93826-781f-459e-8efb-717d1abc6f1c",
   "metadata": {},
   "source": [
    "1. Given an array, check if it contains any duplicates or not. \n",
    "\n",
    "arr = [1, 2, 4, 2, 5, 9] \n",
    "\n",
    "Output = True"
   ]
  },
  {
   "cell_type": "code",
   "execution_count": 2,
   "id": "bc21793c-33b8-42a3-82bd-4c7b6c3be536",
   "metadata": {},
   "outputs": [],
   "source": [
    "class Solution:\n",
    "    #firstly I define the function \n",
    "    def sol(self, arr):\n",
    "        #now I take the length of the array in the variable 'n'\n",
    "        n=len(arr)\n",
    "        # if the length of array is equal to length of set of array\n",
    "        if n == len(set(arr)):\n",
    "            return \"False\"\n",
    "        return \"True\""
   ]
  },
  {
   "cell_type": "code",
   "execution_count": 3,
   "id": "95623dda-cca0-41dd-875c-3da7c3b1162c",
   "metadata": {},
   "outputs": [],
   "source": [
    "s=Solution()"
   ]
  },
  {
   "cell_type": "code",
   "execution_count": 5,
   "id": "dd45a163-2308-40d1-8ac8-c902e1b06478",
   "metadata": {},
   "outputs": [
    {
     "data": {
      "text/plain": [
       "'True'"
      ]
     },
     "execution_count": 5,
     "metadata": {},
     "output_type": "execute_result"
    }
   ],
   "source": [
    "s.sol( [1, 2, 4, 2, 5, 9])"
   ]
  },
  {
   "cell_type": "code",
   "execution_count": null,
   "id": "6d0d342a-93ac-4aa0-9329-107ef5a37496",
   "metadata": {},
   "outputs": [],
   "source": []
  },
  {
   "cell_type": "markdown",
   "id": "b88c9c50-89b4-4d59-b935-4add1809679f",
   "metadata": {},
   "source": [
    "2. Given an array and an integer k, rotate the array to the right by k steps. \n",
    "\n",
    "arr = [1, 2, 3, 4, 5, 6, 7] k = 3 \n",
    "\n",
    "Output = [5, 6, 7, 1, 2, 3, 4]"
   ]
  },
  {
   "cell_type": "code",
   "execution_count": 4,
   "id": "c5691fc1-d4b7-46ad-9224-37ba79c4d598",
   "metadata": {},
   "outputs": [],
   "source": [
    "def reverse_rec(arr,sI,eI):\n",
    "    ''' Arguement:\n",
    "    arr = Array\n",
    "    sI = starting index\n",
    "    eI = ending index'''\n",
    "    # I make recursion function . her \n",
    "    if sI>=eI:\n",
    "        return \n",
    "    arr[sI], arr[eI] = arr[eI], arr[sI]\n",
    "    return reverse_rec(arr, sI+1, eI-1)\n",
    "\n",
    "def rotate_k_times(arr,k):\n",
    "    '''\n",
    "    Arguement:\n",
    "    arr = Array\n",
    "    k = number of step\n",
    "    '''\n",
    "    k=k%len(arr)\n",
    "    reverse_rec(arr,0,len(arr)-1)\n",
    "    reverse_rec(arr,0,k-1)\n",
    "    reverse_rec(arr,k,len(arr)-1)"
   ]
  },
  {
   "cell_type": "code",
   "execution_count": 2,
   "id": "1c0ff7d3-d3b8-4d10-94b9-501ca26ade48",
   "metadata": {},
   "outputs": [
    {
     "name": "stdout",
     "output_type": "stream",
     "text": [
      "[4, 5, 1, 2, 3]\n"
     ]
    }
   ],
   "source": [
    "arr1=[1,2,3,4,5]\n",
    "rotate_k_times(arr1, 2)\n",
    "print(arr1)"
   ]
  },
  {
   "cell_type": "code",
   "execution_count": null,
   "id": "e073c32c-2073-491d-9116-df9bc29f8bde",
   "metadata": {},
   "outputs": [],
   "source": []
  },
  {
   "cell_type": "markdown",
   "id": "ffbd3809-67e5-4a82-b510-b058f741bffd",
   "metadata": {},
   "source": [
    "3. Reverse the given array in-place, means without using any extra data structure. \n",
    "\n",
    "arr = [2, 4, 5, 7, 9, 12] \n",
    "\n",
    "Output = [12, 9, 7, 5, 4, 2]"
   ]
  },
  {
   "cell_type": "code",
   "execution_count": 5,
   "id": "1d8ffa99-384e-4c4b-8a80-e8e134b011a5",
   "metadata": {},
   "outputs": [],
   "source": [
    "def reverse_rec(arr,sI,eI):\n",
    "    ''' Arguement:\n",
    "    arr = Array\n",
    "    sI = starting index\n",
    "    eI = ending index'''\n",
    "    if sI>=eI:\n",
    "        return \n",
    "    arr[sI], arr[eI] = arr[eI], arr[sI]\n",
    "    return reverse_rec(arr, sI+1, eI-1)"
   ]
  },
  {
   "cell_type": "code",
   "execution_count": 6,
   "id": "03859f83-c11f-4d5b-b76b-e6c8924761e0",
   "metadata": {},
   "outputs": [
    {
     "name": "stdout",
     "output_type": "stream",
     "text": [
      "[3125, 625, 125, 25, 5]\n"
     ]
    }
   ],
   "source": [
    "arr2=[5,25,125,625,3125]\n",
    "sI=0\n",
    "eI=len(arr2)-1\n",
    "reverse_rec(arr2, sI, eI)\n",
    "print(arr2)"
   ]
  },
  {
   "cell_type": "markdown",
   "id": "4b0c5da3-bf96-420a-a077-c70b0fa349f2",
   "metadata": {},
   "source": [
    "OR"
   ]
  },
  {
   "cell_type": "code",
   "execution_count": 16,
   "id": "c2c4df76-100a-45c2-a7b8-a4521dd4855b",
   "metadata": {},
   "outputs": [
    {
     "name": "stdout",
     "output_type": "stream",
     "text": [
      "[15, 14, 13, 12, 11]\n"
     ]
    }
   ],
   "source": [
    "def reverse(arr):\n",
    "    left=0\n",
    "    right=len(arr)-1\n",
    "    while(left <= right):\n",
    "        arr[left], arr[right] = arr[right], arr[left]\n",
    "        left+=1\n",
    "        right-=1\n",
    "\n",
    "arr3=[11,12,13,14,15]\n",
    "reverse(arr3)\n",
    "print(arr3)"
   ]
  },
  {
   "cell_type": "code",
   "execution_count": null,
   "id": "610ee9de-4da4-4697-87c6-6e0208a93dcd",
   "metadata": {},
   "outputs": [],
   "source": []
  },
  {
   "cell_type": "markdown",
   "id": "7ae5b963-871f-4609-a2d6-30560586945b",
   "metadata": {},
   "source": [
    "4. Given an array of integers, find the maximum element in an array\n",
    "\n",
    " arr = [10, 5, 20, 8, 15]\n",
    "\n",
    " Output = 20"
   ]
  },
  {
   "cell_type": "code",
   "execution_count": 8,
   "id": "c65d8646-5667-424b-8755-53ab4faaba23",
   "metadata": {},
   "outputs": [],
   "source": [
    "def largest(arr, n):\n",
    "    ''' Arguement:\n",
    "    arr = Array\n",
    "    n = length of the array'''\n",
    "    max = arr[0]\n",
    "    for i in range(1, n):\n",
    "        if arr[i] > max:\n",
    "            max = arr[i]\n",
    "    return max"
   ]
  },
  {
   "cell_type": "code",
   "execution_count": 9,
   "id": "e9d6a2fb-ea96-4e14-bbc5-0c15479cece8",
   "metadata": {},
   "outputs": [
    {
     "data": {
      "text/plain": [
       "20"
      ]
     },
     "execution_count": 9,
     "metadata": {},
     "output_type": "execute_result"
    }
   ],
   "source": [
    "arr4 = [10, 5, 20, 8, 15]\n",
    "n = len(arr4)\n",
    "largest(arr4, n)"
   ]
  },
  {
   "cell_type": "code",
   "execution_count": null,
   "id": "d77bb31d-93e0-4ca4-98ff-0af0f353a683",
   "metadata": {},
   "outputs": [],
   "source": []
  },
  {
   "cell_type": "markdown",
   "id": "c8113bc4-3777-45bd-a11c-048bd52db7c9",
   "metadata": {},
   "source": [
    "5. Given a sorted array, remove the duplicate element without using any extra data structure. \n",
    "\n",
    "arr = [1, 1, 2, 2, 2, 3, 3, 4, 4, 4, 5, 5] \n",
    "\n",
    "Output = [1, 2, 3, 4, 5]\n"
   ]
  },
  {
   "cell_type": "code",
   "execution_count": 1,
   "id": "d5e28739-ac9e-4eee-a5a4-c5924dbfe398",
   "metadata": {},
   "outputs": [],
   "source": [
    "def remove_duplicates(arr):\n",
    "    ''' Arguement: \n",
    "    arr = Array'''\n",
    "    if not arr:\n",
    "        # If their is no array then it will return the empty array\n",
    "        return []\n",
    "    i = 0\n",
    "    for j in range(1, len(arr)):\n",
    "        if arr[j] != arr[i]:\n",
    "            i += 1\n",
    "            arr[i] = arr[j]\n",
    "    return arr[:i+1]\n"
   ]
  },
  {
   "cell_type": "code",
   "execution_count": 2,
   "id": "e821ef27-bde1-4b1b-abd0-a9323b3adaa5",
   "metadata": {},
   "outputs": [
    {
     "data": {
      "text/plain": [
       "[1, 2, 3, 4, 5]"
      ]
     },
     "execution_count": 2,
     "metadata": {},
     "output_type": "execute_result"
    }
   ],
   "source": [
    "remove_duplicates(arr = [1, 1, 2, 2, 2, 3, 3, 4, 4, 4, 5, 5])"
   ]
  },
  {
   "cell_type": "code",
   "execution_count": null,
   "id": "b826935b-564c-4e00-8dd1-926a5e32049f",
   "metadata": {},
   "outputs": [],
   "source": []
  }
 ],
 "metadata": {
  "kernelspec": {
   "display_name": "Python 3 (ipykernel)",
   "language": "python",
   "name": "python3"
  },
  "language_info": {
   "codemirror_mode": {
    "name": "ipython",
    "version": 3
   },
   "file_extension": ".py",
   "mimetype": "text/x-python",
   "name": "python",
   "nbconvert_exporter": "python",
   "pygments_lexer": "ipython3",
   "version": "3.12.0"
  }
 },
 "nbformat": 4,
 "nbformat_minor": 5
}
